{
  "cells": [
    {
      "cell_type": "markdown",
      "metadata": {
        "id": "X6tUWohQUOEp"
      },
      "source": [
        "In this project you going to implement some basics of numpy that you learnt till now."
      ]
    },
    {
      "cell_type": "markdown",
      "metadata": {
        "id": "4Kr2t6SWUOEs"
      },
      "source": [
        "# Numpy\n",
        "Numpy is the core library for scientific computing in Python. It provides a high-performance multidimensional array object, and tools for working with these arrays. If you are already familiar with MATLAB, you might find this tutorial useful to get started with Numpy."
      ]
    },
    {
      "cell_type": "markdown",
      "metadata": {
        "id": "hU2qc6WjUOEs"
      },
      "source": [
        "## 1. Numpy Array\n",
        "A numpy array is a grid of values, all of the same type, and is indexed by a tuple of nonnegative integers. The number of dimensions is the rank of the array; the shape of an array is a tuple of integers giving the size of the array along each dimension.\n",
        "\n",
        "We can initialize numpy arrays from nested Python lists, and access elements using square brackets:"
      ]
    },
    {
      "cell_type": "code",
      "execution_count": null,
      "metadata": {
        "colab": {
          "base_uri": "https://localhost:8080/"
        },
        "id": "cboSb1pdUOEt",
        "outputId": "df0737ce-8834-4322-b7cb-4e0b70c9ed5c"
      },
      "outputs": [
        {
          "output_type": "stream",
          "name": "stdout",
          "text": [
            "<class 'numpy.ndarray'>\n",
            "(3,)\n",
            "1\n",
            "2\n",
            "3\n",
            "1 2 4\n",
            "(2, 3)\n"
          ]
        }
      ],
      "source": [
        "import numpy as np\n",
        "\n",
        "# Q1. Create a rank 1 array with elements 1,2,3 (1 marks)\n",
        "\n",
        "## start code here\n",
        "a = np.array([1,2,3])\n",
        "\n",
        "# Q2. print its type and shape (1 marks)\n",
        "\n",
        "## Start code here\n",
        "print(type(a))\n",
        "print(a.shape)\n",
        "\n",
        "# Q3. Print each of its element individually (1 marks)\n",
        "\n",
        "## Start code here\n",
        "for element in a:\n",
        "    print(element)\n",
        "\n",
        "# Q4. Change element of the array at zero index with 5  (1 marks)\n",
        "\n",
        "## Start code here\n",
        "a[0] = 5\n",
        "\n",
        "# print new array\n",
        "\n",
        "# Q5. Create a rank 2 array like [[1,2,3],[4,5,6]]  (1 marks)\n",
        "\n",
        "## Start code here\n",
        "b = np.array([[1,2,3],[4,5,6]])\n",
        "\n",
        "# Q6. print its shape (1 marks)\n",
        "\n",
        "print(b[0, 0], b[0, 1], b[1, 0])   # Prints \"1 2 4\"\n",
        "\n",
        "print(b.shape)"
      ]
    },
    {
      "cell_type": "markdown",
      "metadata": {
        "id": "w4Fen5HeUOEt"
      },
      "source": [
        "Numpy also provides many functions to create arrays:"
      ]
    },
    {
      "cell_type": "code",
      "execution_count": null,
      "metadata": {
        "colab": {
          "base_uri": "https://localhost:8080/"
        },
        "id": "MM9HYWt-UOEu",
        "outputId": "cf5c8f75-1e23-4813-fd06-1ef3679129b7"
      },
      "outputs": [
        {
          "output_type": "stream",
          "name": "stdout",
          "text": [
            "[[0. 0.]\n",
            " [0. 0.]]\n",
            "[[1. 1.]]\n",
            "[[7 7]\n",
            " [7 7]]\n",
            "[[1. 0.]\n",
            " [0. 1.]]\n",
            "[[0.71411342 0.51170518]\n",
            " [0.69751136 0.52486769]]\n"
          ]
        }
      ],
      "source": [
        "# Q1. Create an array of all zeros with shape (2,2) (1 marks)\n",
        "## Start code here\n",
        "a = np.zeros((2,2))\n",
        "print(a)\n",
        "\n",
        "# Q2. Create an array of all ones with shape (1,2) (1 marks)\n",
        "## Start code here\n",
        "b = np.ones((1,2))\n",
        "print(b)\n",
        "\n",
        "# Q3. Create a constant array with shape (2,2) and value 7 (1 marks)\n",
        "## Start code here\n",
        "c =  np.full((2,2), 7)\n",
        "print(c)\n",
        "\n",
        "# Q4. Create a 2x2 identity matrix (1 marks)\n",
        "## Start code here\n",
        "d = np.eye(2)\n",
        "print(d)\n",
        "\n",
        "# Q5. Create an (2,2) array filled with random values (1 marks)\n",
        "## Start code here\n",
        "e = np.random.random((2,2))\n",
        "print(e)"
      ]
    },
    {
      "cell_type": "markdown",
      "metadata": {
        "id": "HJWPmaIjUOEu"
      },
      "source": [
        "You can read about other methods of array creation in the documentation in the link below.\n",
        "\n",
        "http://docs.scipy.org/doc/numpy/user/basics.creation.html#arrays-creation"
      ]
    },
    {
      "cell_type": "markdown",
      "metadata": {
        "id": "n4CDHU4LUOEu"
      },
      "source": [
        "## 2. Array indexing\n",
        "Numpy offers several ways to index into arrays."
      ]
    },
    {
      "cell_type": "markdown",
      "metadata": {
        "id": "lc_wVgNQUOEu"
      },
      "source": [
        "**a) Slicing:** Similar to Python lists, numpy arrays can be sliced. Since arrays may be multidimensional, you must specify a slice for each dimension of the array:"
      ]
    },
    {
      "cell_type": "code",
      "execution_count": null,
      "metadata": {
        "id": "85fX55BYUOEu"
      },
      "outputs": [],
      "source": [
        "# Q1. Create the following rank 2 array with shape (3, 4) and values as given below (1 mark)\n",
        "# [[ 1  2  3  4]\n",
        "#  [ 5  6  7  8]\n",
        "#  [ 9 10 11 12]]\n",
        "\n",
        "# Start code here\n",
        "a =\n",
        "\n",
        "# Q2. Use slicing to pull out the subarray consisting of the first 2 rows\n",
        "# and columns 1 and 2; b is the following array of shape (2, 2): (1 mark)\n",
        "\n",
        "# Start code here\n",
        "b =\n",
        "\n",
        "# A slice of an array is a view into the same data, so modifying it\n",
        "# will modify the original array.\n",
        "print(a[0, 1])   # Prints \"2\"\n",
        "b[0, 0] = 77     # b[0, 0] is the same piece of data as a[0, 1]\n",
        "print(a[0, 1])   # Prints \"77\""
      ]
    },
    {
      "cell_type": "markdown",
      "metadata": {
        "id": "KyssWjGeUOEv"
      },
      "source": [
        "You can also mix integer indexing with slice indexing. However, doing so will yield an array of lower rank than the original array. Note that this is quite different from the way that MATLAB handles array slicing:"
      ]
    },
    {
      "cell_type": "code",
      "execution_count": null,
      "metadata": {
        "colab": {
          "base_uri": "https://localhost:8080/"
        },
        "id": "qjyDySDWUOEv",
        "outputId": "48f19ae3-db17-443e-96c7-a88a74de2951"
      },
      "outputs": [
        {
          "output_type": "stream",
          "name": "stdout",
          "text": [
            "[5 6 7 8] (4,)\n",
            "[[5 6 7 8]] (1, 4)\n",
            "[ 2  6 10] (3,)\n",
            "[[ 2]\n",
            " [ 6]\n",
            " [10]] (3, 1)\n"
          ]
        }
      ],
      "source": [
        "# Q1. Create the following rank 2 array with shape (3, 4) value as given below (1 marks)\n",
        "# [[ 1  2  3  4]\n",
        "#  [ 5  6  7  8]\n",
        "#  [ 9 10 11 12]]\n",
        "\n",
        "# Start code here\n",
        "a = np.array([[1,2,3,4], [5,6,7,8], [9,10,11,12]])\n",
        "\n",
        "# Two ways of accessing the data in the middle row of the array.\n",
        "# Mixing integer indexing with slices yields an array of lower rank,\n",
        "# while using only slices yields an array of the same rank as the original array:\n",
        "\n",
        "# Q2. Create Rank 1 view of the second row of a (1 marks)\n",
        "# Start code here\n",
        "row_r1 = a[1]\n",
        "\n",
        "# Q3. # Create Rank 2 view of the second row of a (1 marks)\n",
        "# Start code here\n",
        "row_r2 = a[1:2]\n",
        "\n",
        "print(row_r1, row_r1.shape)\n",
        "print(row_r2, row_r2.shape)\n",
        "# We can make the same distinction when accessing columns of an array:\n",
        "\n",
        "# Q4. Create Rank 1 view of the second column of a (1 marks)\n",
        "# Start code here\n",
        "col_r1 = a[:, 1]\n",
        "\n",
        "# Q5. Create Rank 2 view of the second column of a (1 marks)\n",
        "# Start code here\n",
        "col_r2 = a[:, 1:2]\n",
        "\n",
        "print(col_r1, col_r1.shape)\n",
        "print(col_r2, col_r2.shape)"
      ]
    },
    {
      "cell_type": "markdown",
      "metadata": {
        "id": "HxyJ6MjZUOEv"
      },
      "source": [
        "**b) Integer array indexing:** When you index into numpy arrays using slicing, the resulting array view will always be a subarray of the original array. In contrast, integer array indexing allows you to construct arbitrary arrays using the data from another array. Here is an example:"
      ]
    },
    {
      "cell_type": "code",
      "execution_count": null,
      "metadata": {
        "colab": {
          "base_uri": "https://localhost:8080/"
        },
        "id": "EY2-ASGqUOEv",
        "outputId": "3371a3c4-0f22-4f83-b23b-5b1d8fb338bc"
      },
      "outputs": [
        {
          "output_type": "stream",
          "name": "stdout",
          "text": [
            "[1 4 5]\n",
            "[1 4 5]\n",
            "[2 2]\n",
            "[2 2]\n"
          ]
        }
      ],
      "source": [
        "a = np.array([[1,2], [3, 4], [5, 6]])\n",
        "\n",
        "# An example of integer array indexing.\n",
        "# Using the array \"a\" created above and integer indexing\n",
        "\n",
        "# Q1. print an array  that should have shape (3,) and should print \"[1 4 5]\" when printed (1 marks)\n",
        "## Start code\n",
        "result_q1 = np.array([a[0, 0], a[1, 1], a[2, 0]])\n",
        "print(result_q1)\n",
        "# The method of integer array indexing that you implemented is equivalent to this:\n",
        "print(np.array([a[0, 0], a[1, 1], a[2, 0]]))  # Prints \"[1 4 5]\"\n",
        "\n",
        "# When using integer array indexing, you can reuse the same\n",
        "# element from the source array:\n",
        "\n",
        "# Q2. Print the array that prints \"[2 2]\" when printed (1 marks)\n",
        "\n",
        "## Start code\n",
        "result_q2 = np.array([a[0, 1], a[0, 1]])\n",
        "print(result_q2)\n",
        "\n",
        "# Equivalent to the previous integer array indexing example\n",
        "print(np.array([a[0, 1], a[0, 1]]))  # Prints \"[2 2]\""
      ]
    },
    {
      "cell_type": "markdown",
      "metadata": {
        "id": "h2j9IwPCUOEv"
      },
      "source": [
        "One useful trick with integer array indexing is selecting or mutating one element from each row of a matrix:"
      ]
    },
    {
      "cell_type": "code",
      "execution_count": null,
      "metadata": {
        "colab": {
          "base_uri": "https://localhost:8080/"
        },
        "id": "uraQRg39UOEw",
        "outputId": "47559c4d-1353-450e-cbf6-c6ce9a8ed608"
      },
      "outputs": [
        {
          "output_type": "stream",
          "name": "stdout",
          "text": [
            "[[ 1  2  3]\n",
            " [ 4  5  6]\n",
            " [ 7  8  9]\n",
            " [10 11 12]]\n",
            "[ 1  6  7 11]\n",
            "[[11  2  3]\n",
            " [ 4  5 16]\n",
            " [17  8  9]\n",
            " [10 21 12]]\n"
          ]
        }
      ],
      "source": [
        "# Create a new array from which we will select elements\n",
        "a = np.array([[1,2,3], [4,5,6], [7,8,9], [10, 11, 12]])\n",
        "print(a)\n",
        "\n",
        "\n",
        "# Create an array of indices\n",
        "b = np.array([0, 2, 0, 1])\n",
        "\n",
        "# Q1. Select one element from each row of a using the indices in b and print it (1 marks)\n",
        "## Start code\n",
        "selected_elements = a[np.arange(len(a)), b]\n",
        "print(selected_elements)\n",
        "\n",
        "# Q2. Mutate one element from each row of a using the indices in b by adding 10 to it and print it (1 marks)\n",
        "## Start code\n",
        "a[np.arange(len(a)), b] += 10\n",
        "print(a)"
      ]
    },
    {
      "cell_type": "markdown",
      "metadata": {
        "id": "vcugPhSUUOEw"
      },
      "source": [
        "**c) Boolean array indexing:** Boolean array indexing lets you pick out arbitrary elements of an array. Frequently this type of indexing is used to select the elements of an array that satisfy some condition. Here is an example:"
      ]
    },
    {
      "cell_type": "code",
      "execution_count": null,
      "metadata": {
        "colab": {
          "base_uri": "https://localhost:8080/"
        },
        "id": "6br2hRfmUOEw",
        "outputId": "2a999f05-d500-4089-bf12-9bbe546248a6"
      },
      "outputs": [
        {
          "output_type": "stream",
          "name": "stdout",
          "text": [
            "[[False False]\n",
            " [ True  True]\n",
            " [ True  True]]\n",
            "[3 4 5 6]\n",
            "[3 4 5 6]\n"
          ]
        }
      ],
      "source": [
        "a = np.array([[1,2], [3, 4], [5, 6]])\n",
        "\n",
        "# Q1. Find the elements of a that are bigger than 2 using boolean indexing (1 marks)\n",
        "## Start code\n",
        "bool_idx = a > 2\n",
        "\n",
        "print(bool_idx)\n",
        "\n",
        "# We use boolean array indexing to construct a rank 1 array\n",
        "# consisting of the elements of a corresponding to the True values\n",
        "# of bool_idx\n",
        "print(a[bool_idx])\n",
        "\n",
        "# We can do all of the above in a single concise statement:\n",
        "print(a[a > 2])"
      ]
    },
    {
      "cell_type": "markdown",
      "metadata": {
        "id": "7ABpTQBoUOEw"
      },
      "source": [
        "For brevity we have left out a lot of details about numpy array indexing; if you want to know more you should read the documentation from the given link.\n",
        "http://docs.scipy.org/doc/numpy/reference/arrays.indexing.html"
      ]
    },
    {
      "cell_type": "markdown",
      "metadata": {
        "id": "92OOcQKUUOEw"
      },
      "source": [
        "## 3. Datatypes\n",
        "Every numpy array is a grid of elements of the same type. Numpy provides a large set of numeric datatypes that you can use to construct arrays. Numpy tries to guess a datatype when you create an array, but functions that construct arrays usually also include an optional argument to explicitly specify the datatype. Here is an example:"
      ]
    },
    {
      "cell_type": "code",
      "execution_count": null,
      "metadata": {
        "colab": {
          "base_uri": "https://localhost:8080/"
        },
        "id": "bjsKri_XUOEw",
        "outputId": "5b0b9f8f-ceb7-4e47-f4c0-629d74675ab0"
      },
      "outputs": [
        {
          "output_type": "stream",
          "name": "stdout",
          "text": [
            "int64\n",
            "float64\n",
            "int64\n"
          ]
        }
      ],
      "source": [
        "x = np.array([1, 2])   # Let numpy choose the datatype\n",
        "print(x.dtype)         # Prints \"int64\"\n",
        "\n",
        "x = np.array([1.0, 2.0])   # Let numpy choose the datatype\n",
        "print(x.dtype)             # Prints \"float64\"\n",
        "\n",
        "x = np.array([1, 2], dtype=np.int64)   # Force a particular datatype\n",
        "print(x.dtype)                         # Prints \"int64\""
      ]
    },
    {
      "cell_type": "markdown",
      "metadata": {
        "id": "JGqX3KM9UOEw"
      },
      "source": [
        "You can read all about numpy datatypes in the documentation from the given link.\n",
        "http://docs.scipy.org/doc/numpy/reference/arrays.dtypes.html"
      ]
    },
    {
      "cell_type": "markdown",
      "metadata": {
        "id": "hsCZViYtUOEw"
      },
      "source": [
        "## 4. Array math\n",
        "Basic mathematical functions operate elementwise on arrays, and are available both as operator overloads and as functions in the numpy module:"
      ]
    },
    {
      "cell_type": "code",
      "execution_count": null,
      "metadata": {
        "colab": {
          "base_uri": "https://localhost:8080/"
        },
        "id": "vcDV_bzTUOEw",
        "outputId": "705a916a-6041-4bb1-9ed5-4f08cedb4a7c"
      },
      "outputs": [
        {
          "output_type": "stream",
          "name": "stdout",
          "text": [
            "[[ 6.  8.]\n",
            " [10. 12.]]\n",
            "[[-4. -4.]\n",
            " [-4. -4.]]\n",
            "[[ 5. 12.]\n",
            " [21. 32.]]\n",
            "[[0.2        0.33333333]\n",
            " [0.42857143 0.5       ]]\n",
            "[[1.         1.41421356]\n",
            " [1.73205081 2.        ]]\n"
          ]
        }
      ],
      "source": [
        "x = np.array([[1,2],[3,4]], dtype=np.float64)\n",
        "y = np.array([[5,6],[7,8]], dtype=np.float64)\n",
        "\n",
        "# Q1. print Elementwise sum of x and y (1 marks)\n",
        "## Start code here\n",
        "sum = x + y\n",
        "print(sum)\n",
        "# Q2. print Elementwise difference of x and y (1 marks)\n",
        "## Start code here\n",
        "diff = x - y\n",
        "print(diff)\n",
        "# Q3. print Elementwise product of x and y (1 marks)\n",
        "## Start code here\n",
        "product = x * y\n",
        "print(product)\n",
        "# Q4. print Elementwise divison of x and y (1 marks)\n",
        "## Start code here\n",
        "division = x / y\n",
        "print(division)\n",
        "# Q5. print Elementwise square root of x (1 marks)\n",
        "## Start code here\n",
        "sqrt = np.sqrt(x)\n",
        "print(sqrt)"
      ]
    },
    {
      "cell_type": "markdown",
      "metadata": {
        "id": "Mo8pc5KxUOEw"
      },
      "source": [
        "Note that unlike MATLAB, * is elementwise multiplication, not matrix multiplication. We instead use the dot function to compute inner products of vectors, to multiply a vector by a matrix, and to multiply matrices. dot is available both as a function in the numpy module and as an instance method of array objects:"
      ]
    },
    {
      "cell_type": "code",
      "execution_count": null,
      "metadata": {
        "colab": {
          "base_uri": "https://localhost:8080/"
        },
        "id": "ntP-pZTjUOEw",
        "outputId": "d8759314-a525-47e5-c331-079e41d5f1be"
      },
      "outputs": [
        {
          "output_type": "stream",
          "name": "stdout",
          "text": [
            "219\n",
            "[29 67]\n",
            "[[19 22]\n",
            " [43 50]]\n"
          ]
        }
      ],
      "source": [
        "x = np.array([[1,2],[3,4]])\n",
        "y = np.array([[5,6],[7,8]])\n",
        "\n",
        "v = np.array([9,10])\n",
        "w = np.array([11, 12])\n",
        "\n",
        "# Q1. print Inner product of vectors v and w; (1 marks)\n",
        "## Start code here\n",
        "inner_product = np.dot(v, w)\n",
        "print(inner_product)\n",
        "# Q2. print Matrix / vector product of x and v; (1 marks)\n",
        "## Start code here\n",
        "result_vector = np.dot(x, v)\n",
        "print(result_vector)\n",
        "# Q3. print Matrix / matrix product of x and y; (1 marks)\n",
        "## Start code here\n",
        "result_matrix = np.dot(x, y)\n",
        "print(result_matrix)"
      ]
    },
    {
      "cell_type": "markdown",
      "metadata": {
        "id": "Cruvp5YZUOEx"
      },
      "source": [
        "Numpy provides many useful functions for performing computations on arrays; one of the most useful is sum:"
      ]
    },
    {
      "cell_type": "code",
      "execution_count": null,
      "metadata": {
        "colab": {
          "base_uri": "https://localhost:8080/"
        },
        "id": "FyPaEM84UOEx",
        "outputId": "efcf58f4-f4ae-4118-e9bc-fbc7dae71ba1"
      },
      "outputs": [
        {
          "output_type": "stream",
          "name": "stdout",
          "text": [
            "10\n",
            "[4 6]\n",
            "[3 7]\n"
          ]
        }
      ],
      "source": [
        "x = np.array([[1,2],[3,4]])\n",
        "\n",
        "# Q1. Compute sum of all elements and print it (1 marks)\n",
        "## Start code here\n",
        "total_sum = np.sum(x)\n",
        "print(total_sum)\n",
        "\n",
        "# Q2. Compute sum of each column and print it (1 marks)\n",
        "## Start code here\n",
        "column_sums = np.sum(x, axis=0)\n",
        "print(column_sums)\n",
        "\n",
        "# Q3. Compute sum of each row and print it (1 marks)\n",
        "## Start code here\n",
        "row_sums = np.sum(x, axis=1)\n",
        "print(row_sums)"
      ]
    },
    {
      "cell_type": "markdown",
      "metadata": {
        "id": "sDqCQ2K1UOEx"
      },
      "source": [
        "You can find the full list of mathematical functions provided by numpy in the documentation on the provided link.\n",
        "http://docs.scipy.org/doc/numpy/reference/routines.math.html\n",
        "\n",
        "Apart from computing mathematical functions using arrays, we frequently need to reshape or otherwise manipulate data in arrays. The simplest example of this type of operation is transposing a matrix; to transpose a matrix, simply use the T attribute of an array object:"
      ]
    },
    {
      "cell_type": "code",
      "execution_count": null,
      "metadata": {
        "colab": {
          "base_uri": "https://localhost:8080/"
        },
        "id": "9VzIrWr4UOEx",
        "outputId": "49bf9a1f-dbd7-4c08-a4a4-8da5794219c8"
      },
      "outputs": [
        {
          "output_type": "stream",
          "name": "stdout",
          "text": [
            "Matrix x:\n",
            "[[1 2]\n",
            " [3 4]]\n",
            "Transpose of x:\n",
            "[[1 3]\n",
            " [2 4]]\n",
            "Vector v:\n",
            "[1 2 3]\n",
            "Transpose of v (same as v):\n",
            "[1 2 3]\n"
          ]
        }
      ],
      "source": [
        "x = np.array([[1,2], [3,4]])\n",
        "\n",
        "# Q1. print x and its transpose (2 marks)\n",
        "## Start code here\n",
        "x_transpose = np.transpose(x)\n",
        "print(\"Matrix x:\")\n",
        "print(x)\n",
        "print(\"Transpose of x:\")\n",
        "print(x_transpose)\n",
        "# Note that taking the transpose of a rank 1 array does nothing:\n",
        "v = np.array([1,2,3])\n",
        "\n",
        "# Q2. print v and its transpose (2 marks)\n",
        "## Start code here\n",
        "v_transpose = np.transpose(v)\n",
        "print(\"Vector v:\")\n",
        "print(v)\n",
        "print(\"Transpose of v (same as v):\")\n",
        "print(v_transpose)"
      ]
    },
    {
      "cell_type": "markdown",
      "metadata": {
        "id": "m_BaiRtlUOEx"
      },
      "source": [
        "Numpy provides many more functions for manipulating arrays; you can see the full list in the documentation on the provided link.\n",
        "http://docs.scipy.org/doc/numpy/reference/routines.array-manipulation.html"
      ]
    },
    {
      "cell_type": "markdown",
      "metadata": {
        "id": "qiNH1tlKUOEx"
      },
      "source": [
        "## 5. Broadcasting\n",
        "Broadcasting is a powerful mechanism that allows numpy to work with arrays of different shapes when performing arithmetic operations. Frequently we have a smaller array and a larger array, and we want to use the smaller array multiple times to perform some operation on the larger array.\n",
        "\n",
        "For example, suppose that we want to add a constant vector to each row of a matrix. We could do it like this:"
      ]
    },
    {
      "cell_type": "code",
      "execution_count": null,
      "metadata": {
        "colab": {
          "base_uri": "https://localhost:8080/"
        },
        "id": "B3rz9gJgUOEx",
        "outputId": "f8286697-e448-412c-d677-80f1cf2ab16e"
      },
      "outputs": [
        {
          "output_type": "stream",
          "name": "stdout",
          "text": [
            "Matrix y (result of adding v to each row of x):\n",
            "[[ 2  2  4]\n",
            " [ 5  5  7]\n",
            " [ 8  8 10]\n",
            " [11 11 13]]\n"
          ]
        }
      ],
      "source": [
        "# You will add the vector v to each row of the matrix x,\n",
        "# storing the result in the matrix y\n",
        "x = np.array([[1,2,3], [4,5,6], [7,8,9], [10, 11, 12]])\n",
        "v = np.array([1, 0, 1])\n",
        "y = np.empty_like(x)   # Create an empty matrix with the same shape as x\n",
        "\n",
        "# Q1. Add the vector v to each row of the matrix x with an explicit loop and store in y (2 marks)\n",
        "## Start code here\n",
        "for i in range(len(x)):\n",
        "    y[i] = x[i] + v\n",
        "\n",
        "print(\"Matrix y (result of adding v to each row of x):\")\n",
        "print(y)"
      ]
    },
    {
      "cell_type": "markdown",
      "metadata": {
        "id": "U1C2TF5pUOEx"
      },
      "source": [
        "This works; however when the matrix *x* is very large, computing an explicit loop in Python could be slow. Note that adding the vector *v* to each row of the matrix *x* is equivalent to forming a matrix *vv* by stacking multiple copies of v vertically, then performing elementwise summation of *x* and *vv*. We could implement this approach like this:"
      ]
    },
    {
      "cell_type": "code",
      "execution_count": null,
      "metadata": {
        "colab": {
          "base_uri": "https://localhost:8080/"
        },
        "id": "IcCNLCl_UOEx",
        "outputId": "4b5d4dae-29e3-4ab9-e746-45d2dfd5a395"
      },
      "outputs": [
        {
          "output_type": "stream",
          "name": "stdout",
          "text": [
            "[[1 0 1]\n",
            " [1 0 1]\n",
            " [1 0 1]\n",
            " [1 0 1]]\n",
            "[[ 2  2  4]\n",
            " [ 5  5  7]\n",
            " [ 8  8 10]\n",
            " [11 11 13]]\n"
          ]
        }
      ],
      "source": [
        "# You will add the vector v to each row of the matrix x,\n",
        "# storing the result in the matrix y\n",
        "\n",
        "x = np.array([[1,2,3], [4,5,6], [7,8,9], [10, 11, 12]])\n",
        "v = np.array([1, 0, 1])\n",
        "\n",
        "# Q1. Stack 4 copies of v on top of each other using tile method and store it in vv. (2 marks)\n",
        "## Start code here\n",
        "vv = np.tile(v, (4, 1))\n",
        "print(vv)\n",
        "\n",
        "# Q2. Add x and vv elementwise (1 marks)\n",
        "## Start code here\n",
        "y = x + vv\n",
        "print(y)\n",
        "\n"
      ]
    },
    {
      "cell_type": "markdown",
      "metadata": {
        "id": "JCt6UXMdUOEx"
      },
      "source": [
        "Numpy broadcasting allows us to perform this computation without actually creating multiple copies of *v*. Consider this version, using broadcasting:"
      ]
    },
    {
      "cell_type": "code",
      "execution_count": null,
      "metadata": {
        "colab": {
          "base_uri": "https://localhost:8080/"
        },
        "id": "yotBhx4RUOEx",
        "outputId": "cc5b2683-27f3-46ab-fcac-cae8c513af06"
      },
      "outputs": [
        {
          "output_type": "stream",
          "name": "stdout",
          "text": [
            "[[ 2  2  4]\n",
            " [ 5  5  7]\n",
            " [ 8  8 10]\n",
            " [11 11 13]]\n"
          ]
        }
      ],
      "source": [
        "# You will add the vector v to each row of the matrix x,\n",
        "# storing the result in the matrix y\n",
        "x = np.array([[1,2,3], [4,5,6], [7,8,9], [10, 11, 12]])\n",
        "v = np.array([1, 0, 1])\n",
        "\n",
        "# Q1. Add v to each row of x using broadcasting (2 marks)\n",
        "## Start code here\n",
        "y = x + v\n",
        "print(y)"
      ]
    },
    {
      "cell_type": "markdown",
      "metadata": {
        "id": "eOGzH5j-UOEx"
      },
      "source": [
        "The line y = x + v works even though x has shape (4, 3) and v has shape (3,) due to broadcasting; this line works as if v actually had shape (4, 3), where each row was a copy of v, and the sum was performed elementwise.\n",
        "\n",
        "Broadcasting two arrays together follows these rules:\n",
        "\n",
        "> If the arrays do not have the same rank, prepend the shape of the lower rank array with 1s until both shapes have the same length.\n",
        "\n",
        ">The two arrays are said to be compatible in a dimension if they have the same size in the dimension, or if one of the arrays has size 1 in that dimension.\n",
        "\n",
        ">The arrays can be broadcast together if they are compatible in all dimensions.\n",
        "\n",
        ">After broadcasting, each array behaves as if it had shape equal to the elementwise maximum of shapes of the two input arrays.\n",
        "\n",
        ">In any dimension where one array had size 1 and the other array had size greater than 1, the first array behaves as if it were copied along that dimension.\n",
        "\n",
        ">If this explanation does not make sense, try reading the explanation from the documentation or this explanation.http://scipy.github.io/old-wiki/pages/EricsBroadcastingDoc\n",
        "\n",
        ">Functions that support broadcasting are known as universal functions. You can find the list of all universal functions in the documentation from the link provided.\n",
        "http://docs.scipy.org/doc/numpy/reference/ufuncs.html#available-ufuncs\n",
        "\n",
        "Here are some applications of broadcasting:"
      ]
    },
    {
      "cell_type": "code",
      "execution_count": null,
      "metadata": {
        "colab": {
          "base_uri": "https://localhost:8080/"
        },
        "id": "Qhs2GfNmUOEy",
        "outputId": "d8d13675-f9e2-4f6c-a9d5-b36871d14d9d"
      },
      "outputs": [
        {
          "output_type": "stream",
          "name": "stdout",
          "text": [
            "Outer product of v and w:\n",
            "[[ 4  5]\n",
            " [ 8 10]\n",
            " [12 15]]\n",
            "Matrix x with v added to each row:\n",
            "[[2 4 6]\n",
            " [5 7 9]]\n",
            "Matrix x with w added to each column:\n",
            "[[ 5  6  7]\n",
            " [ 9 10 11]]\n",
            "[[ 5  6  7]\n",
            " [ 9 10 11]]\n",
            "[[ 2  4  6]\n",
            " [ 8 10 12]]\n"
          ]
        }
      ],
      "source": [
        "# Compute outer product of vectors\n",
        "v = np.array([1,2,3])  # v has shape (3,)\n",
        "w = np.array([4,5])    # w has shape (2,)\n",
        "\n",
        "# Q1. Compute an outer product of v and w and print it (hint:we first reshape v to be a column) (2 marks)\n",
        "## Start code here\n",
        "outer_product = np.dot(v[:, np.newaxis], w[np.newaxis, :])\n",
        "print(\"Outer product of v and w:\")\n",
        "print(outer_product)\n",
        "\n",
        "# Add a vector to each row of a matrix\n",
        "x = np.array([[1,2,3], [4,5,6]])\n",
        "\n",
        "# Q2. Add v to ecah row of x and print it (2 marks)\n",
        "## Start code here\n",
        "x_with_v = x + v # Remove the reshaping of v\n",
        "print(\"Matrix x with v added to each row:\")\n",
        "print(x_with_v)\n",
        "# Add a vector to each column of a matrix\n",
        "# Q3. Add vector w to each column of x and print it (1 marks)\n",
        "x_with_w = x + np.reshape(w, (2, 1))\n",
        "print(\"Matrix x with w added to each column:\")\n",
        "print(x_with_w)\n",
        "# Another solution is to reshape w to be a column vector of shape (2, 1);\n",
        "# we can then broadcast it directly against x to produce the same\n",
        "# output.\n",
        "print(x + np.reshape(w, (2, 1)))\n",
        "\n",
        "# Multiply a matrix by a constant:\n",
        "# x has shape (2, 3). Numpy treats scalars as arrays of shape ();\n",
        "# these can be broadcast together to shape (2, 3), producing the\n",
        "# following array:\n",
        "# [[ 2  4  6]\n",
        "#  [ 8 10 12]]\n",
        "print(x * 2)"
      ]
    },
    {
      "cell_type": "code",
      "source": [],
      "metadata": {
        "id": "wu-Z1qfzX8uy"
      },
      "execution_count": null,
      "outputs": []
    },
    {
      "cell_type": "markdown",
      "metadata": {
        "id": "4_jnsxsCUOE1"
      },
      "source": [
        "Broadcasting typically makes your code more concise and faster, so you should strive to use it where possible.\n",
        "\n",
        "## 6. Numpy Documentation\n",
        "This brief overview has touched on many of the important things that you need to know about numpy, but is far from complete. Check out the numpy reference to find out much more about numpy.\n",
        "http://docs.scipy.org/doc/numpy/reference/"
      ]
    },
    {
      "cell_type": "markdown",
      "metadata": {
        "id": "IIgRewwvUOE1"
      },
      "source": [
        "# 7. Conclusion"
      ]
    },
    {
      "cell_type": "code",
      "execution_count": null,
      "metadata": {
        "id": "1ynByiteUOE1"
      },
      "outputs": [],
      "source": [
        "# write your conclusions here"
      ]
    }
  ],
  "metadata": {
    "kernelspec": {
      "display_name": "Python 3",
      "language": "python",
      "name": "python3"
    },
    "language_info": {
      "codemirror_mode": {
        "name": "ipython",
        "version": 3
      },
      "file_extension": ".py",
      "mimetype": "text/x-python",
      "name": "python",
      "nbconvert_exporter": "python",
      "pygments_lexer": "ipython3",
      "version": "3.7.6"
    },
    "colab": {
      "provenance": []
    }
  },
  "nbformat": 4,
  "nbformat_minor": 0
}